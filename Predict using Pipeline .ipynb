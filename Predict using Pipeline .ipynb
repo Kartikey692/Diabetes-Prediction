{
 "cells": [
  {
   "cell_type": "code",
   "execution_count": 1,
   "id": "1be4a3a2",
   "metadata": {},
   "outputs": [],
   "source": [
    "import pickle \n",
    "import numpy as np\n",
    "import warnings\n",
    "warnings.filterwarnings(\"ignore\")"
   ]
  },
  {
   "cell_type": "code",
   "execution_count": 2,
   "id": "4154eec1",
   "metadata": {},
   "outputs": [],
   "source": [
    "pipe=pickle.load(open('pipe.pkl1','rb'))"
   ]
  },
  {
   "cell_type": "code",
   "execution_count": 9,
   "id": "6dcdb3ea",
   "metadata": {},
   "outputs": [],
   "source": [
    "test_input=np.array(['male',50,1,1,'current',32.8,6.3,230],dtype=object).reshape(1,8)"
   ]
  },
  {
   "cell_type": "code",
   "execution_count": 10,
   "id": "bca73525",
   "metadata": {},
   "outputs": [
    {
     "data": {
      "text/plain": [
       "array([1], dtype=int64)"
      ]
     },
     "execution_count": 10,
     "metadata": {},
     "output_type": "execute_result"
    }
   ],
   "source": [
    "pipe.predict(test_input)"
   ]
  },
  {
   "cell_type": "code",
   "execution_count": 11,
   "id": "8d9de6f8",
   "metadata": {},
   "outputs": [],
   "source": [
    "test_input1=np.array(['Female',65,1,0,'never',35,4.8,190],dtype=object).reshape(1,8)"
   ]
  },
  {
   "cell_type": "code",
   "execution_count": 12,
   "id": "767ec76f",
   "metadata": {},
   "outputs": [
    {
     "data": {
      "text/plain": [
       "array([0], dtype=int64)"
      ]
     },
     "execution_count": 12,
     "metadata": {},
     "output_type": "execute_result"
    }
   ],
   "source": [
    "pipe.predict(test_input1)"
   ]
  },
  {
   "cell_type": "code",
   "execution_count": 13,
   "id": "fe417009",
   "metadata": {},
   "outputs": [],
   "source": [
    "test_input2=np.array(['Female',44,0,0,'former',31,6.5,100],dtype=object).reshape(1,8)"
   ]
  },
  {
   "cell_type": "code",
   "execution_count": 14,
   "id": "fb031e3f",
   "metadata": {},
   "outputs": [
    {
     "data": {
      "text/plain": [
       "array([0], dtype=int64)"
      ]
     },
     "execution_count": 14,
     "metadata": {},
     "output_type": "execute_result"
    }
   ],
   "source": [
    "pipe.predict(test_input2)"
   ]
  },
  {
   "cell_type": "code",
   "execution_count": 15,
   "id": "387b0d1d",
   "metadata": {},
   "outputs": [],
   "source": [
    "test_input3=np.array(['Female',44,1,1,'No Info',34,7.0,230],dtype=object).reshape(1,8)"
   ]
  },
  {
   "cell_type": "code",
   "execution_count": 16,
   "id": "6dbd436d",
   "metadata": {},
   "outputs": [
    {
     "data": {
      "text/plain": [
       "array([1], dtype=int64)"
      ]
     },
     "execution_count": 16,
     "metadata": {},
     "output_type": "execute_result"
    }
   ],
   "source": [
    "pipe.predict(test_input3)"
   ]
  },
  {
   "cell_type": "code",
   "execution_count": 37,
   "id": "a10bfc1e",
   "metadata": {},
   "outputs": [
    {
     "data": {
      "text/plain": [
       "array([1], dtype=int64)"
      ]
     },
     "execution_count": 37,
     "metadata": {},
     "output_type": "execute_result"
    }
   ],
   "source": [
    "test_input4=np.array(['male',37,1,1,'never',32.5,6.6,200],dtype=object).reshape(1,8)\n",
    "pipe.predict(test_input4)"
   ]
  },
  {
   "cell_type": "code",
   "execution_count": null,
   "id": "5d2e2d48",
   "metadata": {},
   "outputs": [],
   "source": []
  }
 ],
 "metadata": {
  "kernelspec": {
   "display_name": "Python 3 (ipykernel)",
   "language": "python",
   "name": "python3"
  },
  "language_info": {
   "codemirror_mode": {
    "name": "ipython",
    "version": 3
   },
   "file_extension": ".py",
   "mimetype": "text/x-python",
   "name": "python",
   "nbconvert_exporter": "python",
   "pygments_lexer": "ipython3",
   "version": "3.10.9"
  },
  "varInspector": {
   "cols": {
    "lenName": 16,
    "lenType": 16,
    "lenVar": 40
   },
   "kernels_config": {
    "python": {
     "delete_cmd_postfix": "",
     "delete_cmd_prefix": "del ",
     "library": "var_list.py",
     "varRefreshCmd": "print(var_dic_list())"
    },
    "r": {
     "delete_cmd_postfix": ") ",
     "delete_cmd_prefix": "rm(",
     "library": "var_list.r",
     "varRefreshCmd": "cat(var_dic_list()) "
    }
   },
   "types_to_exclude": [
    "module",
    "function",
    "builtin_function_or_method",
    "instance",
    "_Feature"
   ],
   "window_display": false
  }
 },
 "nbformat": 4,
 "nbformat_minor": 5
}
